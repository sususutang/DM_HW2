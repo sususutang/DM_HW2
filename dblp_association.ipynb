{
 "cells": [
  {
   "cell_type": "markdown",
   "metadata": {},
   "source": [
    "学号：1120201241 姓名：赵羽菲  数据挖掘互评作业二: 频繁模式与关联规则挖掘\n",
    "仓库地址：https://github.com/sususutang/DM_HW2"
   ]
  },
  {
   "cell_type": "markdown",
   "metadata": {},
   "source": [
    "本次实验选择SNAP中的引用网络Cit_HepTh数据集和DBLP数据集进行频繁模式和关联规则挖掘。\n",
    "数据分析要求：\n",
    "（1）数据获取与预处理；\n",
    "（2）频繁模式挖掘：可以是项集、序列和图。\n",
    "（3）模式命名：如论文-作者网络中合作模式、引用模式和发表模式等，不同的领域的频繁模式的含义也不尽相同，需自行确定模式的名称。\n",
    "（4）对挖掘结果进行分析；\n",
    "（5）可视化展示。"
   ]
  },
  {
   "cell_type": "markdown",
   "metadata": {},
   "source": [
    "本报告是DBLP数据集的挖掘过程报告，频繁模式为论文-作者合作模式，旨在挖掘经常一起合作的一组作者。"
   ]
  },
  {
   "cell_type": "code",
   "execution_count": 4,
   "metadata": {},
   "outputs": [],
   "source": [
    "import sys\n",
    "from xml.sax import handler, make_parser\n",
    "import pickle\n",
    "import os\n",
    "import csv\n",
    "\n",
    "DBLP_XML_PATH = \"./dblp.xml\"\n",
    "#此处需要完整添加所有“块”结构的标签，或者需要处理的类型的标签\n",
    "paperTag = ('article','inproceedings','proceedings','book',\n",
    "        'incollection','phdthesis','mastersthesis','www')"
   ]
  },
  {
   "cell_type": "code",
   "execution_count": null,
   "metadata": {},
   "outputs": [],
   "source": [
    "# 这一部分是对数据集的预处理，对xml格式文件的处理：\n",
    "# 注意！这一段代码作为单独的python(dblp_preprocess.py)运行，这里只放置代码。\n",
    "class CoauthorHandler(handler.ContentHandler):\n",
    "    def __init__(self):\n",
    "        self.title = ''\n",
    "        self.year = ''\n",
    "        self.author = \" \"\n",
    "        self.count = 0\n",
    "        self.count2 = 0\n",
    "        self.isPaperTag = 0\n",
    "        self.isTitleTag = 0\n",
    "        self.isYearTag = 0\n",
    "        self.isAuthorTag = 0\n",
    "        self.authors = []#存储每个“块”中的所有author\n",
    "        self.storage = {}#用来存储生成的数据，结构为{'title':[year, [author1, author2, ...]]}\n",
    "    def startDocument(self):\n",
    "        print('Document Start')\n",
    "        \n",
    "\n",
    "    def endDocument(self):\n",
    "        print('Document End')\n",
    "\n",
    "    def startElement(self, name, attrs):\n",
    "        if name in paperTag:\n",
    "            self.isPaperTag = 1\n",
    "        if name == 'title':\n",
    "            self.isTitleTag = 1\n",
    "        if name == 'author':\n",
    "            self.isAuthorTag = 1\n",
    "        if name == 'year':\n",
    "            self.isYearTag = 1\n",
    "\n",
    "    def endElement(self, name):\n",
    "        if name == 'author':\n",
    "            self.authors.append(str(self.author))  \n",
    "            self.author = \" \"\n",
    "            self.count2 += 1 # 标记作者人数超过两人的论文数\n",
    "        if name == 'year' or name == 'title':\n",
    "            pass\n",
    "        if name in paperTag:\n",
    "            if self.count2>1:#删除单个作者的文献，因为本实验挖掘作者之间的合作关联\n",
    "                self.storage[self.title] = []\n",
    "                self.storage[self.title].append(self.year)\n",
    "                self.storage[self.title].append(self.authors)\n",
    "                #print(self.authors)\n",
    "                self.count += 1\n",
    "                self.year = ''\n",
    "                self.authors = []\n",
    "                self.count2 = 0\n",
    "                if self.count % 1000 == 0: #每1000轮输出一次提示信息\n",
    "                    print(self.count)\n",
    "                    if self.count % 100000 == 0: #由于该数据集太大，这里只选择前100000条数据进行处理\n",
    "                        print('已保存')\n",
    "                        saveToCsv(self.storage,\"./dblp1.csv\")                 \n",
    "                        exit(0)\n",
    "\n",
    "            else: # 开始记录下一篇论文的信息\n",
    "                self.count += 1\n",
    "                self.year = ''\n",
    "                self.authors = []\n",
    "                self.count2 = 0\n",
    "        \n",
    "\n",
    "    def characters(self, content):\n",
    "        if self.isTitleTag == 1:\n",
    "            self.isTitleTag = 0\n",
    "            self.title = content\n",
    "        if self.isAuthorTag == 1:\n",
    "            self.isAuthorTag = 0\n",
    "            self.author = content\n",
    "        if self.isYearTag == 1:\n",
    "            self.isYearTag = 0\n",
    "            self.year = content\n",
    "        \n",
    "def parserDblpXml():\n",
    "    \n",
    "    handler = CoauthorHandler()\n",
    "    parser = make_parser()\n",
    "    parser.setContentHandler(handler)\n",
    "    f = open(\"./dblp.xml\",'r') # 数据集路径\n",
    "    parser.parse(f)\n",
    "    f.close()\n",
    "    return handler.storage\n",
    "\n",
    "\n",
    "def saveToCsv(storage, file_path): # 保存在csv\n",
    "    items = storage.items()\n",
    "    with open(file_path,'w',newline='',encoding='utf-8') as csvfile:#a\n",
    "        writer = csv.writer(csvfile)\n",
    "        for item in items:\n",
    "            tmp_li = []\n",
    "            tmp_li.append(item[0])\n",
    "            tmp_li.append(item[1][0])\n",
    "            tmp_li.append(item[1][1])\n",
    "            writer.writerow(tmp_li) \n",
    "        csvfile.close()\n",
    "            \n",
    "\n",
    "if __name__ == '__main__':\n",
    "    storage = parserDblpXml()"
   ]
  },
  {
   "cell_type": "code",
   "execution_count": 40,
   "metadata": {},
   "outputs": [],
   "source": [
    "import pandas as pd\n",
    "from collections import Counter\n",
    "from mlxtend.frequent_patterns import apriori, association_rules\n",
    "import matplotlib.pyplot as plt\n",
    "from mlxtend.preprocessing import TransactionEncoder\n",
    "from mlxtend.frequent_patterns import apriori\n",
    "from mlxtend.frequent_patterns import association_rules\n",
    "\n",
    "# Step 1: 数据准备\n",
    "# 读取DBLP数据集\n",
    "dblp_data = pd.read_csv('dblp1.csv',header=None,nrows=5000,names=['title','year', 'authors'])  # DBLP数据存储在名为dblp1.csv的文件中，加载5000行\n",
    "\n",
    "\n",
    "# Step 2: 数据预处理\n",
    "transactions = [] # 存储全部事务\n",
    "for item in dblp_data['authors']:\n",
    "    transaction = [] # 存储单篇论文的全部作者\n",
    "    authors = str(item).split(',')\n",
    "    for author in authors:\n",
    "        start = author.find('\\'')\n",
    "        end = author.find('\\'', start+1)\n",
    "        t_author = author[start+1:end]\n",
    "        transaction.append(t_author)\n",
    "        #print(transaction)\n",
    "    transactions.append(transaction)"
   ]
  },
  {
   "cell_type": "code",
   "execution_count": 42,
   "metadata": {},
   "outputs": [
    {
     "name": "stdout",
     "output_type": "stream",
     "text": [
      "Author: J，出现次数: 51\n",
      "Author: Christoph Meinel，出现次数: 51\n",
      "Author: Jos，出现次数: 44\n",
      "Author: Christodoulos A. Floudas，出现次数: 31\n",
      "Author: Andr，出现次数: 24\n",
      "Author: Jo，出现次数: 20\n",
      "Author: Peter Gritzmann，出现次数: 18\n",
      "Author: Christoph Beierle，出现次数: 17\n",
      "Author: Fran，出现次数: 16\n",
      "Author: Rainer Tichatschke，出现次数: 15\n"
     ]
    }
   ],
   "source": [
    "# 分析最常出现的作者\n",
    "\n",
    "counter = Counter()\n",
    "# 统计每个子列表中出现的值\n",
    "for sublist in transactions:\n",
    "    counter.update(sublist)\n",
    "\n",
    "# 获取出现频率最高的前十个值及其出现次数\n",
    "most_common_values = counter.most_common(10)\n",
    "\n",
    "# 打印结果\n",
    "for value, count in most_common_values:\n",
    "    print(f\"Author: {value}，出现次数: {count}\")"
   ]
  },
  {
   "cell_type": "code",
   "execution_count": 43,
   "metadata": {},
   "outputs": [
    {
     "data": {
      "image/png": "[encoded data removed]",
      "text/plain": [
       "<Figure size 640x480 with 1 Axes>"
      ]
     },
     "metadata": {},
     "output_type": "display_data"
    }
   ],
   "source": [
    "values = counter.keys()\n",
    "counts = counter.values()\n",
    "\n",
    "# 绘制柱状图\n",
    "plt.bar(values, counts)\n",
    "\n",
    "# 添加标题和轴标签\n",
    "plt.title('DBLP_Author Distribution')\n",
    "plt.xlabel('Author')\n",
    "plt.ylabel('Count')\n",
    "\n",
    "# 显示图形，数据过多，可视化效果不明显\n",
    "plt.show()"
   ]
  },
  {
   "cell_type": "code",
   "execution_count": 44,
   "metadata": {},
   "outputs": [
    {
     "name": "stdout",
     "output_type": "stream",
     "text": [
      "                 0\n",
      "count  9845.000000\n",
      "mean      1.372575\n",
      "std       1.393205\n",
      "min       1.000000\n",
      "25%       1.000000\n",
      "50%       1.000000\n",
      "75%       1.000000\n",
      "max      51.000000\n"
     ]
    },
    {
     "data": {
      "image/png": "[encoded data removed]",
      "text/plain": [
       "<Figure size 640x480 with 1 Axes>"
      ]
     },
     "metadata": {},
     "output_type": "display_data"
    }
   ],
   "source": [
    "counts_df = pd.DataFrame(counts)\n",
    "summary = counts_df.describe()\n",
    "\n",
    "# 打印统计摘要信息\n",
    "print(summary)\n",
    "hist = counts_df.hist()"
   ]
  },
  {
   "cell_type": "code",
   "execution_count": 45,
   "metadata": {},
   "outputs": [],
   "source": [
    "# 将数据的格式转化为布尔矩阵形式，便于关联规则挖掘\n",
    "te = TransactionEncoder()\n",
    "encoded_data = te.fit_transform(transactions)\n",
    "df = pd.DataFrame(encoded_data, columns=te.columns_)"
   ]
  },
  {
   "cell_type": "code",
   "execution_count": 46,
   "metadata": {},
   "outputs": [
    {
     "name": "stdout",
     "output_type": "stream",
     "text": [
      "    support                                itemsets\n",
      "0    0.0020                      (Albert Y. Zomaya)\n",
      "1    0.0026                      (Alexander Kaplan)\n",
      "2    0.0028                        (Alfred Menezes)\n",
      "3    0.0048                                  (Andr)\n",
      "4    0.0026                         (Anna Slobodov)\n",
      "5    0.0024                           (Borko Furht)\n",
      "6    0.0062              (Christodoulos A. Floudas)\n",
      "7    0.0034                     (Christoph Beierle)\n",
      "8    0.0102                      (Christoph Meinel)\n",
      "9    0.0024               (Constantine Stephanidis)\n",
      "10   0.0028                      (Darrel Hankerson)\n",
      "11   0.0020           (Efstratios N. Pistikopoulos)\n",
      "12   0.0032                                  (Fran)\n",
      "13   0.0030                                     (G)\n",
      "14   0.0024                           (Harald Sack)\n",
      "15   0.0026                          (Helmut Seidl)\n",
      "16   0.0020                             (Henry Lin)\n",
      "17   0.0102                                     (J)\n",
      "18   0.0022                                   (Jes)\n",
      "19   0.0040                                    (Jo)\n",
      "20   0.0084                                   (Jos)\n",
      "21   0.0028                                   (Mar)\n",
      "22   0.0020                  (Michael G. Strintzis)\n",
      "23   0.0024                     (Panos M. Pardalos)\n",
      "24   0.0036                       (Peter Gritzmann)\n",
      "25   0.0020                   (Pierangela Samarati)\n",
      "26   0.0030                    (Rainer Tichatschke)\n",
      "27   0.0022                          (Reiner Horst)\n",
      "28   0.0020                                     (S)\n",
      "29   0.0026      (Sabrina De Capitani di Vimercati)\n",
      "30   0.0020                       (Sandeep Kaushik)\n",
      "31   0.0024                      (Tanja Lange 0001)\n",
      "32   0.0020                            (Tuncer I. )\n",
      "33   0.0024                            (Udo Pletat)\n",
      "34   0.0022                           (Victor Klee)\n",
      "35   0.0020                           (Xiaobo Zhou)\n",
      "36   0.0026  (Alexander Kaplan, Rainer Tichatschke)\n",
      "37   0.0028      (Darrel Hankerson, Alfred Menezes)\n",
      "38   0.0026       (Christoph Meinel, Anna Slobodov)\n",
      "39   0.0022         (Christoph Meinel, Harald Sack)\n",
      "40   0.0020                (Henry Lin, Xiaobo Zhou)\n",
      "41   0.0022          (Victor Klee, Peter Gritzmann)\n"
     ]
    }
   ],
   "source": [
    "# 计算引用模式的频繁项集\n",
    "Cit_frequent_itemsets = apriori(df, min_support=0.002, use_colnames=True) # 由于数据集过大，比较分散，这里最低支持度选择较小的数值\n",
    "print(Cit_frequent_itemsets)"
   ]
  },
  {
   "cell_type": "code",
   "execution_count": 47,
   "metadata": {},
   "outputs": [
    {
     "name": "stdout",
     "output_type": "stream",
     "text": [
      "            antecedents           consequents  antecedent support  \\\n",
      "0    (Alexander Kaplan)  (Rainer Tichatschke)              0.0026   \n",
      "1  (Rainer Tichatschke)    (Alexander Kaplan)              0.0030   \n",
      "2    (Darrel Hankerson)      (Alfred Menezes)              0.0028   \n",
      "3      (Alfred Menezes)    (Darrel Hankerson)              0.0028   \n",
      "4       (Anna Slobodov)    (Christoph Meinel)              0.0026   \n",
      "\n",
      "   consequent support  support  confidence        lift  leverage  conviction  \\\n",
      "0              0.0030   0.0026    1.000000  333.333333  0.002592         inf   \n",
      "1              0.0026   0.0026    0.866667  333.333333  0.002592      7.4805   \n",
      "2              0.0028   0.0028    1.000000  357.142857  0.002792         inf   \n",
      "3              0.0028   0.0028    1.000000  357.142857  0.002792         inf   \n",
      "4              0.0102   0.0026    1.000000   98.039216  0.002573         inf   \n",
      "\n",
      "   zhangs_metric  \n",
      "0       0.999599  \n",
      "1       1.000000  \n",
      "2       1.000000  \n",
      "3       1.000000  \n",
      "4       0.992380  \n"
     ]
    }
   ],
   "source": [
    "# 计算关联规则\n",
    "Cit_rules = association_rules(Cit_frequent_itemsets, metric=\"confidence\", min_threshold=0.8)\n",
    "print(Cit_rules.head())"
   ]
  },
  {
   "cell_type": "code",
   "execution_count": 48,
   "metadata": {},
   "outputs": [
    {
     "name": "stdout",
     "output_type": "stream",
     "text": [
      "            antecedents           consequents  support  confidence  \\\n",
      "0    (Alexander Kaplan)  (Rainer Tichatschke)   0.0026    1.000000   \n",
      "1  (Rainer Tichatschke)    (Alexander Kaplan)   0.0026    0.866667   \n",
      "2    (Darrel Hankerson)      (Alfred Menezes)   0.0028    1.000000   \n",
      "3      (Alfred Menezes)    (Darrel Hankerson)   0.0028    1.000000   \n",
      "4       (Anna Slobodov)    (Christoph Meinel)   0.0026    1.000000   \n",
      "5         (Harald Sack)    (Christoph Meinel)   0.0022    0.916667   \n",
      "6           (Henry Lin)         (Xiaobo Zhou)   0.0020    1.000000   \n",
      "7         (Xiaobo Zhou)           (Henry Lin)   0.0020    1.000000   \n",
      "8         (Victor Klee)     (Peter Gritzmann)   0.0022    1.000000   \n",
      "\n",
      "         lift  conviction  \n",
      "0  333.333333         inf  \n",
      "1  333.333333      7.4805  \n",
      "2  357.142857         inf  \n",
      "3  357.142857         inf  \n",
      "4   98.039216         inf  \n",
      "5   89.869281     11.8776  \n",
      "6  500.000000         inf  \n",
      "7  500.000000         inf  \n",
      "8  277.777778         inf  \n"
     ]
    }
   ],
   "source": [
    "# 打印关联规则的支持度、置信度、提升度和确信度\n",
    "Cit_rules = Cit_rules[['antecedents', 'consequents', 'support', 'confidence', 'lift','conviction']]\n",
    "print(Cit_rules)"
   ]
  },
  {
   "cell_type": "markdown",
   "metadata": {},
   "source": [
    "挖掘结果分析：\n",
    "针对以上实验结果，我们可以得到如下强相关规则：\n",
    "1. (Alexander Kaplan) -> (Rainer Tichatschke)\n",
    "2. (Darrel Hankerson) -> (Alfred Menezes)\n",
    "3. (Anna Slobodov) -> (Christoph Meinel)\n",
    "4. (Harald Sack) -> (Christoph Meinel)\n",
    "5. (Henry Lin) -> (Xiaobo Zhou) 等\n",
    "\n",
    "这些规则中，所有的置信度都是1.0，表示关联非常强，而且提升度也都是显著大于1，因此，这些规则可以被认为是强关联规则。\n",
    "\n",
    "因此，我们可以得出结果：Alexander Kaplan与Rainer Tichatschke经常合作；Darrel Hankerson与Alfred Menezes经常合作；Henry Lin与Xiaobo Zhou经常合作等。"
   ]
  },
  {
   "cell_type": "code",
   "execution_count": 49,
   "metadata": {},
   "outputs": [
    {
     "data": {
      "image/png": "[encoded data removed]",
      "text/plain": [
       "<Figure size 640x480 with 1 Axes>"
      ]
     },
     "metadata": {},
     "output_type": "display_data"
    }
   ],
   "source": [
    "# 频繁项集的支持度和项集大小的关系图\n",
    "plt.scatter(Cit_frequent_itemsets['support'], Cit_frequent_itemsets['itemsets'].apply(len), alpha=0.5)\n",
    "plt.xlabel('Support')\n",
    "plt.ylabel('Itemset Size')\n",
    "plt.title('Cit Frequent Itemsets')\n",
    "plt.show()"
   ]
  },
  {
   "cell_type": "code",
   "execution_count": 50,
   "metadata": {},
   "outputs": [
    {
     "data": {
      "image/png": "[encoded data removed]",
      "text/plain": [
       "<Figure size 640x480 with 1 Axes>"
      ]
     },
     "metadata": {},
     "output_type": "display_data"
    }
   ],
   "source": [
    "# 支持度与置信度关联关系展示\n",
    "plt.xlabel('support')\n",
    "plt.ylabel('confidence')\n",
    "for i in range(Cit_rules.shape[0]):\n",
    "    plt.scatter(Cit_rules.support[i],Cit_rules.confidence[i],c='r')"
   ]
  },
  {
   "cell_type": "code",
   "execution_count": 51,
   "metadata": {},
   "outputs": [
    {
     "data": {
      "image/png": "[encoded data removed]",
      "text/plain": [
       "<Figure size 640x480 with 1 Axes>"
      ]
     },
     "metadata": {},
     "output_type": "display_data"
    }
   ],
   "source": [
    "# 支持度与lift关联关系展示\n",
    "plt.xlabel('support')\n",
    "plt.ylabel('lift')\n",
    "for i in range(Cit_rules.shape[0]):\n",
    "    plt.scatter(Cit_rules.support[i],Cit_rules.lift[i],c='r')"
   ]
  }
 ],
 "metadata": {
  "kernelspec": {
   "display_name": "Python 3",
   "language": "python",
   "name": "python3"
  },
  "language_info": {
   "codemirror_mode": {
    "name": "ipython",
    "version": 3
   },
   "file_extension": ".py",
   "mimetype": "text/x-python",
   "name": "python",
   "nbconvert_exporter": "python",
   "pygments_lexer": "ipython3",
   "version": "3.10.7"
  }
 },
 "nbformat": 4,
 "nbformat_minor": 2
}
